{
 "cells": [
  {
   "cell_type": "markdown",
   "metadata": {},
   "source": [
    "## *wordfreqcounter.py*"
   ]
  },
  {
   "cell_type": "code",
   "execution_count": null,
   "metadata": {
    "collapsed": false,
    "scrolled": true
   },
   "outputs": [],
   "source": [
    "import requests\n",
    "from bs4 import BeautifulSoup\n",
    "import operator\n",
    "\n",
    "def start(url):\n",
    "    word_list = []\n",
    "    source_code = requests.get(url).text\n",
    "    soup = BeautifulSoup(source_code)\n",
    "    for post_text in soup.findAll('div', {'class': 'user-review'}):\n",
    "        content = post_text.string\n",
    "        words = content.lower().split()\n",
    "        for each_word in words:\n",
    "            word_list.append(each_word)\n",
    "    clean_up_list(word_list)\n",
    "\n",
    "def clean_up_list(word_list):\n",
    "    clean_word_list = []\n",
    "    for word in word_list:\n",
    "        symbols = \"!@#$%^&*()_+{}:\\\"<>?,./;'[]-='\"\n",
    "        for i in range(0,len(symbols)):\n",
    "            word= word.replace(symbols[i],\"\")\n",
    "        if len(word) > 0:\n",
    "            print(word)\n",
    "            clean_word_list.append(word)\n",
    "    create_dictionary(clean_word_list)\n",
    "\n",
    "def create_dictionary(clean_word_list):\n",
    "    word_count = {}\n",
    "    for word in clean_word_list:\n",
    "        if word in word_count:\n",
    "            word_count[word] +=1\n",
    "        else:\n",
    "            word_count[word] = 1\n",
    "        for key,value in sorted(word_count.items(), key=operator.itemgetter(1)):\n",
    "            print(key,value)\n",
    "\n",
    "start('http://www.snapdeal.com/product/apple-macbook-pro-13-inch/199160/reviews?page=5')\n",
    "\n"
   ]
  },
  {
   "cell_type": "markdown",
   "metadata": {},
   "source": [
    "The output would look something like: <br>\n",
    "\n",
    "<strong>\n",
    "most : 2 <br>\n",
    "review : 1 <br>\n",
    "245 : 1 <br>\n",
    "awesome : 2 <br>\n",
    "</strong>\n",
    "and so on...\n",
    "___"
   ]
  },
  {
   "cell_type": "code",
   "execution_count": null,
   "metadata": {
    "collapsed": true
   },
   "outputs": [],
   "source": []
  }
 ],
 "metadata": {
  "kernelspec": {
   "display_name": "Python 2",
   "language": "python",
   "name": "python2"
  },
  "language_info": {
   "codemirror_mode": {
    "name": "ipython",
    "version": 2
   },
   "file_extension": ".py",
   "mimetype": "text/x-python",
   "name": "python",
   "nbconvert_exporter": "python",
   "pygments_lexer": "ipython2",
   "version": "2.7.11"
  }
 },
 "nbformat": 4,
 "nbformat_minor": 0
}
